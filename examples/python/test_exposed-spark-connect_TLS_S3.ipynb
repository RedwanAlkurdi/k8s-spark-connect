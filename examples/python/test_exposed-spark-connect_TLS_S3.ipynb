{
 "cells": [
  {
   "cell_type": "markdown",
   "metadata": {},
   "source": [
    "# Pyspark connect session without session level packages"
   ]
  },
  {
   "cell_type": "code",
   "execution_count": null,
   "metadata": {},
   "outputs": [],
   "source": [
    "from pyspark.sql import SparkSession\n",
    "from datetime import datetime, date\n",
    "from pyspark.sql import Row\n",
    "import os\n",
    "\n",
    "# Spark Connect URL\n",
    "CONNECT_URL = \"sc://spark-connect.zerocarbon-1.nzero.net:443/;use_ssl=true\"\n",
    "\n",
    "# add the EDP CA to the environment variable\n",
    "tls_roots = \"../EDP_CA/nzero.pem\"\n",
    "os.environ[\"GRPC_DEFAULT_SSL_ROOTS_FILE_PATH\"] = tls_roots\n",
    "\n",
    "\n",
    "spark = SparkSession.builder.remote(CONNECT_URL).getOrCreate()\n",
    "spark.conf.set(\"spark.sql.session.localRelationCacheThreshold\", 64 * 1024 * 1024)\n",
    "\n",
    "df = spark.createDataFrame([\n",
    "    Row(a=1, b=2., c='string1', d=date(2000, 1, 1), e=datetime(2000, 1, 1, 12, 0)),\n",
    "    Row(a=2, b=3., c='string2', d=date(2000, 2, 1), e=datetime(2000, 1, 2, 12, 0)),\n",
    "    Row(a=4, b=5., c='string3', d=date(2000, 3, 1), e=datetime(2000, 1, 3, 12, 0))\n",
    "])\n",
    "df.show()"
   ]
  },
  {
   "cell_type": "code",
   "execution_count": 2,
   "metadata": {},
   "outputs": [],
   "source": [
    "spark.stop()"
   ]
  },
  {
   "cell_type": "markdown",
   "metadata": {},
   "source": [
    "# Pyspark connect Session with Session level packages"
   ]
  },
  {
   "cell_type": "code",
   "execution_count": null,
   "metadata": {},
   "outputs": [],
   "source": [
    "import conda_pack\n",
    "import os\n",
    "\n",
    "! rm pyspark.tar.gz\n",
    "conda_pack.pack()"
   ]
  },
  {
   "cell_type": "code",
   "execution_count": null,
   "metadata": {},
   "outputs": [],
   "source": [
    "from pyspark.sql import SparkSession\n",
    "from datetime import datetime, date\n",
    "from pyspark.sql import Row\n",
    "import conda_pack\n",
    "import os\n",
    "\n",
    "# Spark Connect URL\n",
    "CONNECT_URL = \"sc://spark-connect.zerocarbon-1.nzero.net:443/;use_ssl=true\"\n",
    "\n",
    "# add the EDP CA to the environment variable\n",
    "tls_roots = \"../EDP_CA/nzero.pem\"\n",
    "os.environ[\"GRPC_DEFAULT_SSL_ROOTS_FILE_PATH\"] = tls_roots\n",
    "\n",
    "spark = SparkSession.builder.remote(CONNECT_URL).config(\"spark.sql.extensions\", \"io.delta.sql.DeltaSparkSessionExtension\") \\\n",
    "    .config(\"spark.sql.catalog.spark_catalog\", \"org.apache.spark.sql.delta.catalog.DeltaCatalog\").appName(\"SimpleApp\").getOrCreate()\n",
    "spark.conf.set(\"spark.sql.session.localRelationCacheThreshold\", 64 * 1024 * 1024)\n",
    "\n",
    "spark.addArtifact(\n",
    "    \"pyspark.tar.gz#environment\",\n",
    "    archive=True)\n",
    "spark.conf.set(\n",
    "    \"spark.sql.execution.pyspark.python\", \"environment/bin/python\")\n",
    "\n",
    "\n",
    "\n",
    "df = spark.createDataFrame([\n",
    "    Row(a=1, b=2., c='string1', d=date(2000, 1, 1), e=datetime(2000, 1, 1, 12, 0)),\n",
    "    Row(a=2, b=3., c='string2', d=date(2000, 2, 1), e=datetime(2000, 1, 2, 12, 0)),\n",
    "    Row(a=4, b=5., c='string3', d=date(2000, 3, 1), e=datetime(2000, 1, 3, 12, 0))\n",
    "])\n",
    "df.show()"
   ]
  },
  {
   "cell_type": "code",
   "execution_count": 5,
   "metadata": {},
   "outputs": [],
   "source": [
    "# Save it as a Delta table\n",
    "df.write.format(\"delta\").mode(\"overwrite\").save(\"/tmp/delta-table\")\n"
   ]
  },
  {
   "cell_type": "code",
   "execution_count": null,
   "metadata": {},
   "outputs": [],
   "source": [
    "# you won't be able to read it as a Delta table, because the Delta table is saved in the PVC of the executor\n",
    "# if we used S3, we would be able to read it as a Delta table\n",
    "spark.read.format(\"delta\").load(\"/tmp/delta-table\").show()"
   ]
  },
  {
   "cell_type": "code",
   "execution_count": 6,
   "metadata": {},
   "outputs": [],
   "source": [
    "spark.stop()"
   ]
  },
  {
   "cell_type": "markdown",
   "metadata": {},
   "source": [
    "# Spark connect session with S3 integration"
   ]
  },
  {
   "cell_type": "code",
   "execution_count": null,
   "metadata": {},
   "outputs": [],
   "source": [
    "! export MINIO_SECRET_KEY=<your-secret-key>\n",
    "! export MINIO_ACCESS_KEY=<your-access-key>"
   ]
  },
  {
   "cell_type": "code",
   "execution_count": null,
   "metadata": {},
   "outputs": [],
   "source": [
    "from pyspark.sql import SparkSession\n",
    "from datetime import datetime, date\n",
    "from pyspark.sql import Row\n",
    "import os \n",
    "\n",
    "# Spark Connect URL\n",
    "CONNECT_URL = \"sc://spark-connect.zerocarbon-1.nzero.net:443/;use_ssl=true\"\n",
    "\n",
    "# add the EDP CA to the environment variable\n",
    "tls_roots = \"../EDP_CA/nzero.pem\"\n",
    "os.environ[\"GRPC_DEFAULT_SSL_ROOTS_FILE_PATH\"] = tls_roots\n",
    "\n",
    "# Get MinIO credentials from environment variables\n",
    "MINIO_ACCESS_KEY = os.getenv(\"MINIO_ACCESS_KEY\")\n",
    "MINIO_SECRET_KEY = os.getenv(\"MINIO_SECRET_KEY\")\n",
    "\n",
    "\n",
    "spark = SparkSession.builder.remote(CONNECT_URL) \\\n",
    "    .config(\"spark.sql.extensions\", \"io.delta.sql.DeltaSparkSessionExtension\") \\\n",
    "    .config(\"spark.sql.catalog.spark_catalog\", \"org.apache.spark.sql.delta.catalog.DeltaCatalog\") \\\n",
    "    .config(\"spark.hadoop.fs.s3a.access.key\", MINIO_ACCESS_KEY) \\\n",
    "    .config(\"spark.hadoop.fs.s3a.secret.key\", MINIO_SECRET_KEY) \\\n",
    "    .config(\"spark.hadoop.fs.s3a.endpoint\", \"https://minio-c2-api.sxp-1.nzero.net:443\") \\\n",
    "    .config(\"spark.hadoop.fs.s3a.path.style.access\", \"true\") \\\n",
    "    .config(\"spark.hadoop.fs.s3a.impl\", \"org.apache.hadoop.fs.s3a.S3AFileSystem\") \\\n",
    "    .config(\"spark.hadoop.fs.s3a.connection.ssl.enabled\", \"true\") \\\n",
    "    .appName(\"SimpleApp\").getOrCreate()\n",
    "\n",
    "\n",
    "\n",
    "df = spark.createDataFrame([\n",
    "    Row(a=1, b=2., c='string1', d=date(2000, 1, 1), e=datetime(2000, 1, 1, 12, 0)),\n",
    "    Row(a=2, b=3., c='string2', d=date(2000, 2, 1), e=datetime(2000, 1, 2, 12, 0)),\n",
    "    Row(a=4, b=5., c='string3', d=date(2000, 3, 1), e=datetime(2000, 1, 3, 12, 0))\n",
    "])\n",
    "df.show()"
   ]
  },
  {
   "cell_type": "code",
   "execution_count": 9,
   "metadata": {},
   "outputs": [],
   "source": [
    "# Save it as a Delta table\n",
    "df.write.format(\"delta\").mode(\"overwrite\").save(\"s3a://spark-test/delta-table\")"
   ]
  },
  {
   "cell_type": "code",
   "execution_count": null,
   "metadata": {},
   "outputs": [],
   "source": [
    "# you won't be able to read it as a Delta table, because the Delta table is saved in the PVC of the executor\n",
    "# if we used S3, we would be able to read it as a Delta table\n",
    "spark.read.format(\"delta\").load(\"s3a://spark-test/delta-table\").show()"
   ]
  },
  {
   "cell_type": "code",
   "execution_count": null,
   "metadata": {},
   "outputs": [],
   "source": [
    "from pyspark.sql.functions import input_file_name\n",
    "import json\n",
    "\n",
    "# Path to the delta log JSON files\n",
    "log_path = \"s3a://spark-test/delta-table/_delta_log\"\n",
    "\n",
    "# Read all JSON log files\n",
    "log_df = spark.read.option(\"multiLine\", True).json(f\"{log_path}/*.json\")\n",
    "\n",
    "# Optional: show raw log structure\n",
    "log_df.withColumn(\"file_name\", input_file_name()).show(truncate=False)\n"
   ]
  },
  {
   "cell_type": "code",
   "execution_count": null,
   "metadata": {},
   "outputs": [],
   "source": [
    "history_df = log_df.filter(\"commitInfo IS NOT NULL\").select(\"commitInfo.*\")\n",
    "history_df.select(\"*\").show(truncate=False)\n"
   ]
  },
  {
   "cell_type": "code",
   "execution_count": 13,
   "metadata": {},
   "outputs": [],
   "source": [
    "spark.stop()"
   ]
  }
 ],
 "metadata": {
  "kernelspec": {
   "display_name": "pyspark",
   "language": "python",
   "name": "python3"
  },
  "language_info": {
   "codemirror_mode": {
    "name": "ipython",
    "version": 3
   },
   "file_extension": ".py",
   "mimetype": "text/x-python",
   "name": "python",
   "nbconvert_exporter": "python",
   "pygments_lexer": "ipython3",
   "version": "3.10.17"
  }
 },
 "nbformat": 4,
 "nbformat_minor": 2
}
